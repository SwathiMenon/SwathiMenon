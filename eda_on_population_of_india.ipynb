{
  "metadata": {
    "kernelspec": {
      "language": "python",
      "display_name": "Python 3",
      "name": "python3"
    },
    "language_info": {
      "name": "python",
      "version": "3.7.12",
      "mimetype": "text/x-python",
      "codemirror_mode": {
        "name": "ipython",
        "version": 3
      },
      "pygments_lexer": "ipython3",
      "nbconvert_exporter": "python",
      "file_extension": ".py"
    },
    "colab": {
      "name": "eda-on-population-of-india.ipynb",
      "provenance": [],
      "include_colab_link": true
    }
  },
  "nbformat_minor": 0,
  "nbformat": 4,
  "cells": [
    {
      "cell_type": "markdown",
      "metadata": {
        "id": "view-in-github",
        "colab_type": "text"
      },
      "source": [
        "<a href=\"https://colab.research.google.com/github/SwathiMenon/SwathiMenon/blob/main/eda_on_population_of_india.ipynb\" target=\"_parent\"><img src=\"https://colab.research.google.com/assets/colab-badge.svg\" alt=\"Open In Colab\"/></a>"
      ]
    },
    {
      "cell_type": "code",
      "source": [
        "# This Python 3 environment comes with many helpful analytics libraries installed\n",
        "# It is defined by the kaggle/python Docker image: https://github.com/kaggle/docker-python\n",
        "# For example, here's several helpful packages to load\n",
        "\n",
        "import numpy as np # linear algebra\n",
        "import pandas as pd # data processing, CSV file I/O (e.g. pd.read_csv)\n",
        "import seaborn as sns\n",
        "import matplotlib.pyplot as plt\n",
        "import matplotlib.ticker as ticker\n",
        "\n",
        "# Input data files are available in the read-only \"../input/\" directory\n",
        "# For example, running this (by clicking run or pressing Shift+Enter) will list all files under the input directory\n",
        "\n",
        "import os\n",
        "for dirname, _, filenames in os.walk('/kaggle/input'):\n",
        "    for filename in filenames:\n",
        "        print(os.path.join(dirname, filename))\n",
        "\n",
        "# You can write up to 20GB to the current directory (/kaggle/working/) that gets preserved as output when you create a version using \"Save & Run All\" \n",
        "# You can also write temporary files to /kaggle/temp/, but they won't be saved outside of the current session"
      ],
      "metadata": {
        "_uuid": "8f2839f25d086af736a60e9eeb907d3b93b6e0e5",
        "_cell_guid": "b1076dfc-b9ad-4769-8c92-a6c4dae69d19",
        "execution": {
          "iopub.status.busy": "2022-07-09T15:16:53.327627Z",
          "iopub.execute_input": "2022-07-09T15:16:53.328018Z",
          "iopub.status.idle": "2022-07-09T15:16:54.443132Z",
          "shell.execute_reply.started": "2022-07-09T15:16:53.327887Z",
          "shell.execute_reply": "2022-07-09T15:16:54.441380Z"
        },
        "trusted": true,
        "id": "99HV4_4ZsW_q"
      },
      "execution_count": null,
      "outputs": []
    },
    {
      "cell_type": "code",
      "source": [
        "indian_popn = pd.read_csv('../input/population-data-india/india_population.csv')\n",
        "indian_popn = indian_popn.rename({\"Median Age\":'Median_age', \"Yearly % Change\": 'Yearly_perc_change', \"Urban Population\":'Urban_Population'}, axis =1)\n",
        "indian_popn.head(50)"
      ],
      "metadata": {
        "execution": {
          "iopub.status.busy": "2022-07-09T15:17:03.169663Z",
          "iopub.execute_input": "2022-07-09T15:17:03.170458Z",
          "iopub.status.idle": "2022-07-09T15:17:03.236138Z",
          "shell.execute_reply.started": "2022-07-09T15:17:03.170422Z",
          "shell.execute_reply": "2022-07-09T15:17:03.235019Z"
        },
        "trusted": true,
        "id": "r5rf8hHrsW_x"
      },
      "execution_count": null,
      "outputs": []
    },
    {
      "cell_type": "code",
      "source": [
        "indian_popn.isna().sum()"
      ],
      "metadata": {
        "execution": {
          "iopub.status.busy": "2022-07-09T15:17:10.635727Z",
          "iopub.execute_input": "2022-07-09T15:17:10.636035Z",
          "iopub.status.idle": "2022-07-09T15:17:10.646676Z",
          "shell.execute_reply.started": "2022-07-09T15:17:10.636002Z",
          "shell.execute_reply": "2022-07-09T15:17:10.645787Z"
        },
        "trusted": true,
        "id": "0Tg3ZwIxsW_2"
      },
      "execution_count": null,
      "outputs": []
    },
    {
      "cell_type": "code",
      "source": [
        "indian_popn.info()"
      ],
      "metadata": {
        "execution": {
          "iopub.status.busy": "2022-07-09T15:17:13.338118Z",
          "iopub.execute_input": "2022-07-09T15:17:13.338549Z",
          "iopub.status.idle": "2022-07-09T15:17:13.362200Z",
          "shell.execute_reply.started": "2022-07-09T15:17:13.338518Z",
          "shell.execute_reply": "2022-07-09T15:17:13.361338Z"
        },
        "trusted": true,
        "id": "YxV241sgsW_5"
      },
      "execution_count": null,
      "outputs": []
    },
    {
      "cell_type": "code",
      "source": [
        "plt.figure(figsize= (20,8))\n",
        "plt.bar(indian_popn['Year'],indian_popn['Population'], color ='maroon',\n",
        "        width = 2)"
      ],
      "metadata": {
        "execution": {
          "iopub.status.busy": "2022-07-09T15:17:20.321502Z",
          "iopub.execute_input": "2022-07-09T15:17:20.321779Z",
          "iopub.status.idle": "2022-07-09T15:17:20.625609Z",
          "shell.execute_reply.started": "2022-07-09T15:17:20.321749Z",
          "shell.execute_reply": "2022-07-09T15:17:20.624630Z"
        },
        "trusted": true,
        "id": "yElDFn7LsW_7"
      },
      "execution_count": null,
      "outputs": []
    },
    {
      "cell_type": "code",
      "source": [
        "\"\"\"Horizontal bar-chart for last 6 years\"\"\"\n",
        "fig, ax = plt.subplots(figsize =(16, 9))\n",
        "ax.barh(indian_popn['Year'][0:6], indian_popn['Population'][0:6])\n",
        "\"\"\"Add annotation to bars\"\"\"\n",
        "for i in ax.patches:\n",
        "    plt.text(i.get_width()+0.2, i.get_y()+0.5,\n",
        "             str(round((i.get_width()), 2)),\n",
        "             fontsize = 10, fontweight ='bold',\n",
        "             color ='grey')"
      ],
      "metadata": {
        "execution": {
          "iopub.status.busy": "2022-07-09T15:17:26.524786Z",
          "iopub.execute_input": "2022-07-09T15:17:26.525455Z",
          "iopub.status.idle": "2022-07-09T15:17:26.849801Z",
          "shell.execute_reply.started": "2022-07-09T15:17:26.525389Z",
          "shell.execute_reply": "2022-07-09T15:17:26.848690Z"
        },
        "trusted": true,
        "id": "meOJ6W24sW_8"
      },
      "execution_count": null,
      "outputs": []
    },
    {
      "cell_type": "code",
      "source": [
        "#set barwidth\n",
        "barWidth = 0.25\n",
        "\n",
        "fig = plt.subplots(figsize =(12, 8))\n",
        "\n",
        "population = indian_popn['Population'][0:6]\n",
        "urban_pop = indian_popn['Urban_Population'][0:6]\n",
        "\n",
        "\n",
        "\"\"\"Set position of bar on X-axis\"\"\"\n",
        "br1 = np.arange(len(population))\n",
        "br2 = [x + barWidth for x in br1]\n",
        "\n",
        "#make the plot\n",
        "plt.bar(br1, population, color ='r', width = barWidth,\n",
        "        edgecolor ='grey', label ='Total Population')\n",
        "plt.bar(br2, urban_pop, color ='g', width = barWidth,\n",
        "        edgecolor ='grey', label ='urban population')\n",
        "\n",
        "\n",
        "#add_ticks\n",
        "plt.xticks([r + barWidth for r in range(len(population))],\n",
        "        ['2015', '2016', '2017', '2018', '2019', '2020'])\n",
        " "
      ],
      "metadata": {
        "execution": {
          "iopub.status.busy": "2022-07-09T15:37:53.670596Z",
          "iopub.execute_input": "2022-07-09T15:37:53.671397Z",
          "iopub.status.idle": "2022-07-09T15:37:53.942092Z",
          "shell.execute_reply.started": "2022-07-09T15:37:53.671361Z",
          "shell.execute_reply": "2022-07-09T15:37:53.941243Z"
        },
        "trusted": true,
        "id": "d-uQ9u_nsW__"
      },
      "execution_count": null,
      "outputs": []
    },
    {
      "cell_type": "code",
      "source": [
        "plt.figure()\n",
        "\n",
        "indian_popn[['Population', 'World Population']].sort_values('Population',ascending = True).plot.bar(stacked=False, color = ['blue','pink'],\n",
        "                                                                                                                       figsize = (12,8), grid = True, fontsize = 15)\n",
        "plt.title('Worlds vs India population vs Urban Population comparison', fontsize = 15)\n",
        "plt.xlabel('Year', fontsize = 15)\n",
        "plt.ylabel('Popualtion in billions', fontsize = 15)\n",
        "\n",
        "\n",
        "\n",
        "plt.show()"
      ],
      "metadata": {
        "execution": {
          "iopub.status.busy": "2022-07-09T15:33:06.072106Z",
          "iopub.execute_input": "2022-07-09T15:33:06.072399Z",
          "iopub.status.idle": "2022-07-09T15:33:06.721882Z",
          "shell.execute_reply.started": "2022-07-09T15:33:06.072369Z",
          "shell.execute_reply": "2022-07-09T15:33:06.721027Z"
        },
        "trusted": true,
        "id": "r8FnBqY4sXAB"
      },
      "execution_count": null,
      "outputs": []
    },
    {
      "cell_type": "code",
      "source": [
        "indian_popn[['Urban_Population','Population']].plot.bar(stacked=True, color = ['brown','pink'],\n",
        "                                                        figsize = (12,8), grid = True, fontsize = 15)\n",
        "\n",
        "plt.title('Urban population VS country population', fontsize = 15)\n",
        "plt.xlabel('Year', fontsize = 15)\n",
        "plt.ylabel('Population in BLRD', fontsize = 15)\n",
        "plt.show()"
      ],
      "metadata": {
        "execution": {
          "iopub.status.busy": "2022-07-09T15:34:40.640228Z",
          "iopub.execute_input": "2022-07-09T15:34:40.640519Z",
          "iopub.status.idle": "2022-07-09T15:34:41.095518Z",
          "shell.execute_reply.started": "2022-07-09T15:34:40.640487Z",
          "shell.execute_reply": "2022-07-09T15:34:41.094160Z"
        },
        "trusted": true,
        "id": "-7frhfm1sXAD"
      },
      "execution_count": null,
      "outputs": []
    },
    {
      "cell_type": "code",
      "source": [
        "features = indian_popn[['Population', 'Median_age']]"
      ],
      "metadata": {
        "execution": {
          "iopub.status.busy": "2022-07-09T15:18:18.107082Z",
          "iopub.execute_input": "2022-07-09T15:18:18.107505Z",
          "iopub.status.idle": "2022-07-09T15:18:18.113914Z",
          "shell.execute_reply.started": "2022-07-09T15:18:18.107474Z",
          "shell.execute_reply": "2022-07-09T15:18:18.113017Z"
        },
        "trusted": true,
        "id": "dO9iUVAosXAG"
      },
      "execution_count": null,
      "outputs": []
    },
    {
      "cell_type": "code",
      "source": [
        "features.head()"
      ],
      "metadata": {
        "execution": {
          "iopub.status.busy": "2022-07-09T15:18:21.970090Z",
          "iopub.execute_input": "2022-07-09T15:18:21.970377Z",
          "iopub.status.idle": "2022-07-09T15:18:21.981631Z",
          "shell.execute_reply.started": "2022-07-09T15:18:21.970346Z",
          "shell.execute_reply": "2022-07-09T15:18:21.980621Z"
        },
        "trusted": true,
        "id": "ribD50iOsXAI"
      },
      "execution_count": null,
      "outputs": []
    },
    {
      "cell_type": "code",
      "source": [
        "plt.figure(figsize= (10,3))\n",
        "plt.scatter(y = features.index, x = features.Population, c= features.Median_age)"
      ],
      "metadata": {
        "execution": {
          "iopub.status.busy": "2022-07-09T15:18:29.330504Z",
          "iopub.execute_input": "2022-07-09T15:18:29.331444Z",
          "iopub.status.idle": "2022-07-09T15:18:29.576384Z",
          "shell.execute_reply.started": "2022-07-09T15:18:29.331400Z",
          "shell.execute_reply": "2022-07-09T15:18:29.575320Z"
        },
        "trusted": true,
        "id": "nE3Wr1YIsXAK"
      },
      "execution_count": null,
      "outputs": []
    },
    {
      "cell_type": "code",
      "source": [
        "plt.figure(figsize= (10,3))\n",
        "plt.plot(features.index, features.Population)\n",
        "plt.xlabel('year')\n",
        "plt.ylabel('Population')\n",
        "\n",
        "plt.show()\n"
      ],
      "metadata": {
        "execution": {
          "iopub.status.busy": "2022-07-09T15:18:47.743780Z",
          "iopub.execute_input": "2022-07-09T15:18:47.744204Z",
          "iopub.status.idle": "2022-07-09T15:18:47.979770Z",
          "shell.execute_reply.started": "2022-07-09T15:18:47.744166Z",
          "shell.execute_reply": "2022-07-09T15:18:47.979067Z"
        },
        "trusted": true,
        "id": "ag_sL1fusXAL"
      },
      "execution_count": null,
      "outputs": []
    },
    {
      "cell_type": "code",
      "source": [
        "pop_vs_median_age = plt.scatter(y= indian_popn.Population, x = indian_popn.Median_age, c = indian_popn.Median_age, marker='x')\n",
        "indian_pop_vs_world_pop = plt.scatter(x = indian_popn['Population'], y= indian_popn['World Population'], )"
      ],
      "metadata": {
        "execution": {
          "iopub.status.busy": "2022-07-09T15:18:55.035087Z",
          "iopub.execute_input": "2022-07-09T15:18:55.035418Z",
          "iopub.status.idle": "2022-07-09T15:18:55.326418Z",
          "shell.execute_reply.started": "2022-07-09T15:18:55.035383Z",
          "shell.execute_reply": "2022-07-09T15:18:55.325307Z"
        },
        "trusted": true,
        "id": "nhB3kpNSsXAN"
      },
      "execution_count": null,
      "outputs": []
    },
    {
      "cell_type": "code",
      "source": [
        ""
      ],
      "metadata": {
        "id": "8h6P0hgMsXAN"
      },
      "execution_count": null,
      "outputs": []
    }
  ]
}